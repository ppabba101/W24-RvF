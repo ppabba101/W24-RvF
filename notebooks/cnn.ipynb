{
 "cells": [
  {
   "cell_type": "code",
   "execution_count": 1,
   "metadata": {},
   "outputs": [],
   "source": [
    "import torch\n",
    "import torch.nn as nn\n",
    "import torch.nn.functional as F\n",
    "import torchvision\n",
    "import torchvision.transforms as transforms\n",
    "import numpy as np\n",
    "import matplotlib.pyplot as plt\n",
    "from datetime import datetime"
   ]
  },
  {
   "cell_type": "code",
   "execution_count": 2,
   "metadata": {},
   "outputs": [],
   "source": [
    "from pathlib import Path\n",
    "from typing import Union, Callable\n",
    "import pandas as pd\n",
    "import torch\n",
    "import numpy.typing as npt\n",
    "import torchvision\n",
    "import imageio.v3 as iio\n",
    "\n",
    "class RvFDataset(torch.utils.data.Dataset):\n",
    "    def __init__(\n",
    "            self,\n",
    "            split: str = \"train\",\n",
    "            data_directory : Union[str, Path] = \"data/rvf140k\",\n",
    "            preprocessor : Callable[[npt.ArrayLike], torch.Tensor] = None\n",
    "    ):\n",
    "        self.data_directory = Path(data_directory)\n",
    "        self.metadata = pd.read_csv(self.data_directory / f\"{split}.csv\")\n",
    "\n",
    "        if preprocessor is None:\n",
    "            self.preprocessor = torchvision.transforms.ToTensor()\n",
    "        else:\n",
    "            self.preprocessor = preprocessor\n",
    "\n",
    "    def __len__(self) -> int:\n",
    "        return len(self.metadata)\n",
    "\n",
    "    def __getitem__(self, index) -> tuple[torch.Tensor, int]:\n",
    "        image_metadata = self.metadata.iloc[index]\n",
    "        path = self.data_directory / image_metadata[\"path\"]\n",
    "        image = self.preprocessor(iio.imread(path))\n",
    "        return image, image_metadata[\"label\"]"
   ]
  },
  {
   "cell_type": "code",
   "execution_count": 3,
   "metadata": {},
   "outputs": [],
   "source": [
    "# One time code to calculate the mean and std of the train_dataset\n",
    "\n",
    "# import torchvision.transforms.v2 as v2\n",
    "\n",
    "# mean = torch.zeros((3,))\n",
    "# variance = torch.zeros((3,))\n",
    "# tensor_converter = v2.Compose([v2.ToImage(), v2.ToDtype(torch.float32, scale=True)])\n",
    "\n",
    "# for image, _ in train_dataset:\n",
    "#     mean += tensor_converter(image).mean(dim=(1, 2))\n",
    "# mean /= len(train_dataset)\n",
    "\n",
    "# for image, _ in train_dataset:\n",
    "#     image = tensor_converter(image)\n",
    "#     variance += ((image - mean.view(3, 1, 1))**2).mean(dim=(1,2))\n",
    "\n",
    "# std = torch.sqrt(variance / len(train_dataset))\n",
    "\n",
    "# print(mean, std)"
   ]
  },
  {
   "cell_type": "code",
   "execution_count": 4,
   "metadata": {},
   "outputs": [],
   "source": [
    "import torchvision.transforms.v2 as v2\n",
    "\n",
    "MEAN = [0.5186, 0.4246, 0.3793]\n",
    "STD = [0.2790, 0.2535, 0.2542]\n",
    "\n",
    "preprocessor = v2.Compose([\n",
    "    v2.ToImage(),\n",
    "    v2.Resize((128, 128)),\n",
    "    v2.ToDtype(torch.float32, scale=True),\n",
    "    v2.Normalize(mean = MEAN, std = STD),\n",
    "])"
   ]
  },
  {
   "cell_type": "code",
   "execution_count": 5,
   "metadata": {},
   "outputs": [],
   "source": [
    "train_dataset = RvFDataset(\"train\", data_directory=\"../data/rvf140k\", preprocessor=preprocessor)\n",
    "train_loader = torch.utils.data.DataLoader(train_dataset, batch_size=32, shuffle=True)\n",
    "\n",
    "val_dataset = RvFDataset(\"valid\", data_directory=\"../data/rvf140k\", preprocessor=preprocessor)\n",
    "val_loader = torch.utils.data.DataLoader(val_dataset, batch_size=32, shuffle=False)"
   ]
  },
  {
   "cell_type": "code",
   "execution_count": 6,
   "metadata": {},
   "outputs": [],
   "source": [
    "# Define the model\n",
    "class CNN(nn.Module):\n",
    "  def __init__(self, K):\n",
    "    super(CNN, self).__init__()\n",
    "    \n",
    "    # define the conv layers\n",
    "    self.conv1 = nn.Sequential(\n",
    "        nn.Conv2d(3, 16, kernel_size=3, padding=1),\n",
    "        nn.ReLU(),\n",
    "        nn.BatchNorm2d(16),\n",
    "        nn.Conv2d(16, 16, kernel_size=3, padding=1),\n",
    "        nn.ReLU(),\n",
    "        nn.BatchNorm2d(16),\n",
    "        nn.MaxPool2d(2),\n",
    "    )\n",
    "    self.conv2 = nn.Sequential(\n",
    "        nn.Conv2d(16, 32, kernel_size=3, padding=1),\n",
    "        nn.ReLU(),\n",
    "        nn.BatchNorm2d(32),\n",
    "        nn.Conv2d(32, 32, kernel_size=3, padding=1),\n",
    "        nn.ReLU(),\n",
    "        nn.BatchNorm2d(32),\n",
    "        nn.MaxPool2d(2),\n",
    "    )\n",
    "    self.conv3 = nn.Sequential(\n",
    "        nn.Conv2d(32, 64, kernel_size=3, padding=1),\n",
    "        nn.ReLU(),\n",
    "        nn.BatchNorm2d(64),\n",
    "        nn.Conv2d(64, 64, kernel_size=3, padding=1),\n",
    "        nn.ReLU(),\n",
    "        nn.BatchNorm2d(64),\n",
    "        nn.MaxPool2d(2),\n",
    "    )\n",
    "\n",
    "    # Useful: https://pytorch.org/docs/stable/nn.html#torch.nn.MaxPool2d\n",
    "    # H_out = H_in + 2p - 2 --> p = 1 if H_out = H_in\n",
    "    \n",
    "    # Easy to calculate output\n",
    "    # 32 > 16 > 8 > 4\n",
    "\n",
    "    # define the linear layers\n",
    "    self.fc1 = nn.Linear(16384, 256)\n",
    "    self.fc2 = nn.Linear(256, K)\n",
    "  \n",
    "  def forward(self, x):\n",
    "    x = self.conv1(x)\n",
    "    x = self.conv2(x)\n",
    "    x = self.conv3(x)\n",
    "    x = x.view(x.size(0), -1)\n",
    "    x = F.dropout(x, p=0.5)\n",
    "    x = F.relu(self.fc1(x))\n",
    "    x = F.dropout(x, p=0.2)\n",
    "    x = self.fc2(x)\n",
    "    return x"
   ]
  },
  {
   "cell_type": "code",
   "execution_count": 7,
   "metadata": {},
   "outputs": [],
   "source": [
    "K = 2\n",
    "model = CNN(K)"
   ]
  },
  {
   "cell_type": "code",
   "execution_count": 8,
   "metadata": {},
   "outputs": [
    {
     "name": "stdout",
     "output_type": "stream",
     "text": [
      "mps\n"
     ]
    },
    {
     "data": {
      "text/plain": [
       "CNN(\n",
       "  (conv1): Sequential(\n",
       "    (0): Conv2d(3, 16, kernel_size=(3, 3), stride=(1, 1), padding=(1, 1))\n",
       "    (1): ReLU()\n",
       "    (2): BatchNorm2d(16, eps=1e-05, momentum=0.1, affine=True, track_running_stats=True)\n",
       "    (3): Conv2d(16, 16, kernel_size=(3, 3), stride=(1, 1), padding=(1, 1))\n",
       "    (4): ReLU()\n",
       "    (5): BatchNorm2d(16, eps=1e-05, momentum=0.1, affine=True, track_running_stats=True)\n",
       "    (6): MaxPool2d(kernel_size=2, stride=2, padding=0, dilation=1, ceil_mode=False)\n",
       "  )\n",
       "  (conv2): Sequential(\n",
       "    (0): Conv2d(16, 32, kernel_size=(3, 3), stride=(1, 1), padding=(1, 1))\n",
       "    (1): ReLU()\n",
       "    (2): BatchNorm2d(32, eps=1e-05, momentum=0.1, affine=True, track_running_stats=True)\n",
       "    (3): Conv2d(32, 32, kernel_size=(3, 3), stride=(1, 1), padding=(1, 1))\n",
       "    (4): ReLU()\n",
       "    (5): BatchNorm2d(32, eps=1e-05, momentum=0.1, affine=True, track_running_stats=True)\n",
       "    (6): MaxPool2d(kernel_size=2, stride=2, padding=0, dilation=1, ceil_mode=False)\n",
       "  )\n",
       "  (conv3): Sequential(\n",
       "    (0): Conv2d(32, 64, kernel_size=(3, 3), stride=(1, 1), padding=(1, 1))\n",
       "    (1): ReLU()\n",
       "    (2): BatchNorm2d(64, eps=1e-05, momentum=0.1, affine=True, track_running_stats=True)\n",
       "    (3): Conv2d(64, 64, kernel_size=(3, 3), stride=(1, 1), padding=(1, 1))\n",
       "    (4): ReLU()\n",
       "    (5): BatchNorm2d(64, eps=1e-05, momentum=0.1, affine=True, track_running_stats=True)\n",
       "    (6): MaxPool2d(kernel_size=2, stride=2, padding=0, dilation=1, ceil_mode=False)\n",
       "  )\n",
       "  (fc1): Linear(in_features=16384, out_features=256, bias=True)\n",
       "  (fc2): Linear(in_features=256, out_features=2, bias=True)\n",
       ")"
      ]
     },
     "execution_count": 8,
     "metadata": {},
     "output_type": "execute_result"
    }
   ],
   "source": [
    "if torch.backends.mps.is_available():\n",
    "    device = torch.device(\"mps\")\n",
    "else:\n",
    "    device = torch.device(\"cpu\")\n",
    "print(device)\n",
    "model.to(device)"
   ]
  },
  {
   "cell_type": "code",
   "execution_count": 9,
   "metadata": {},
   "outputs": [],
   "source": [
    "criterion = nn.CrossEntropyLoss()\n",
    "optimizer = torch.optim.AdamW(model.parameters(), lr=3e-3, weight_decay=0.1)"
   ]
  },
  {
   "cell_type": "code",
   "execution_count": 10,
   "metadata": {},
   "outputs": [
    {
     "name": "stdout",
     "output_type": "stream",
     "text": [
      "Total number of parameters: 4267602\n"
     ]
    }
   ],
   "source": [
    "total_params = sum(p.numel() for p in model.parameters())\n",
    "print(f\"Total number of parameters: {total_params}\")"
   ]
  },
  {
   "cell_type": "code",
   "execution_count": 11,
   "metadata": {},
   "outputs": [],
   "source": [
    "def batch_gd(model, criterion, optimizer, train_loader, test_loader, epochs):\n",
    "  train_losses = np.zeros(epochs)\n",
    "  test_losses = np.zeros(epochs)\n",
    "\n",
    "  for it in range(epochs):\n",
    "    model.train()\n",
    "    t0 = datetime.now()\n",
    "    train_loss = []\n",
    "    for inputs, targets in train_loader:\n",
    "      # move data to GPU\n",
    "      inputs, targets = inputs.to(device), targets.to(device)\n",
    "\n",
    "      # zero the parameter gradients\n",
    "      optimizer.zero_grad()\n",
    "\n",
    "      # Forward pass\n",
    "      outputs = model(inputs)\n",
    "      loss = criterion(outputs, targets)\n",
    "        \n",
    "      # Backward and optimize\n",
    "      loss.backward()\n",
    "      optimizer.step()\n",
    "\n",
    "      train_loss.append(loss.item())\n",
    "\n",
    "    # Get train loss and test loss\n",
    "    train_loss = np.mean(train_loss) # a little misleading\n",
    "    \n",
    "    # Switch to eval mode to change the behavior of the dropout layer\n",
    "    model.eval()\n",
    "    test_loss = []\n",
    "    for inputs, targets in test_loader:\n",
    "      inputs, targets = inputs.to(device), targets.to(device)\n",
    "      outputs = model(inputs)\n",
    "      loss = criterion(outputs, targets)\n",
    "      test_loss.append(loss.item())\n",
    "    test_loss = np.mean(test_loss)\n",
    "\n",
    "    # Save losses\n",
    "    train_losses[it] = train_loss\n",
    "    test_losses[it] = test_loss\n",
    "    \n",
    "    dt = datetime.now() - t0\n",
    "    print(f'Epoch {it+1}/{epochs}, Train Loss: {train_loss:.4f}, \\\n",
    "      Test Loss: {test_loss:.4f}, Duration: {dt}')\n",
    "  \n",
    "  return train_losses, test_losses"
   ]
  },
  {
   "cell_type": "code",
   "execution_count": 12,
   "metadata": {},
   "outputs": [
    {
     "name": "stdout",
     "output_type": "stream",
     "text": [
      "Epoch 1/5, Train Loss: 0.6363,       Test Loss: 0.5585, Duration: 0:07:03.982762\n",
      "Epoch 2/5, Train Loss: 0.4450,       Test Loss: 0.3929, Duration: 0:06:45.477095\n",
      "Epoch 3/5, Train Loss: 0.3356,       Test Loss: 0.2800, Duration: 0:06:40.351656\n",
      "Epoch 4/5, Train Loss: 0.2752,       Test Loss: 0.2949, Duration: 0:06:42.121932\n",
      "Epoch 5/5, Train Loss: 0.2559,       Test Loss: 0.2773, Duration: 0:06:41.340626\n"
     ]
    }
   ],
   "source": [
    "train_losses, test_losses = batch_gd(\n",
    "    model, criterion, optimizer, train_loader, val_loader, epochs=5)"
   ]
  },
  {
   "cell_type": "code",
   "execution_count": 13,
   "metadata": {},
   "outputs": [
    {
     "data": {
      "image/png": "[encoded data removed]",
      "text/plain": [
       "<Figure size 640x480 with 1 Axes>"
      ]
     },
     "metadata": {},
     "output_type": "display_data"
    }
   ],
   "source": [
    "plt.plot(train_losses, label='train loss')\n",
    "plt.plot(test_losses, label='test loss')\n",
    "plt.legend()\n",
    "plt.show()"
   ]
  },
  {
   "cell_type": "code",
   "execution_count": 14,
   "metadata": {},
   "outputs": [
    {
     "name": "stderr",
     "output_type": "stream",
     "text": [
      "/var/folders/t_/zrszv1g95pg_t0_0zg0y_3l00000gn/T/ipykernel_59374/2194220118.py:6: UserWarning: To copy construct from a tensor, it is recommended to use sourceTensor.clone().detach() or sourceTensor.clone().detach().requires_grad_(True), rather than torch.tensor(sourceTensor).\n",
      "  inputs = torch.unsqueeze(torch.tensor(inputs), 0)\n",
      "/var/folders/t_/zrszv1g95pg_t0_0zg0y_3l00000gn/T/ipykernel_59374/2194220118.py:20: UserWarning: To copy construct from a tensor, it is recommended to use sourceTensor.clone().detach() or sourceTensor.clone().detach().requires_grad_(True), rather than torch.tensor(sourceTensor).\n",
      "  inputs = torch.unsqueeze(torch.tensor(inputs), 0)\n"
     ]
    },
    {
     "name": "stdout",
     "output_type": "stream",
     "text": [
      "Train acc: 0.8948, Test acc: 0.8829\n"
     ]
    }
   ],
   "source": [
    "model.eval()\n",
    "n_correct = 0.\n",
    "n_total = 0.\n",
    "\n",
    "for inputs, targets in train_dataset:\n",
    "  inputs = torch.unsqueeze(torch.tensor(inputs), 0)\n",
    "  targets = torch.unsqueeze(torch.tensor(targets), 0)\n",
    "  inputs, targets = inputs.to(device), targets.to(device)\n",
    "  outputs = model(inputs)\n",
    "  _, predictions = torch.max(outputs, 1)\n",
    "  n_correct += (predictions == targets).sum().item()\n",
    "  n_total += targets.shape[0]\n",
    "\n",
    "train_acc = n_correct/n_total\n",
    "\n",
    "n_correct = 0.\n",
    "n_total = 0.\n",
    "\n",
    "for inputs, targets in val_dataset:\n",
    "  inputs = torch.unsqueeze(torch.tensor(inputs), 0)\n",
    "  targets = torch.unsqueeze(torch.tensor(targets), 0)\n",
    "  inputs, targets = inputs.to(device), targets.to(device)\n",
    "  outputs = model(inputs)\n",
    "  _, predictions = torch.max(outputs, 1)\n",
    "  n_correct += (predictions == targets).sum().item()\n",
    "  n_total += targets.shape[0]\n",
    "\n",
    "test_acc = n_correct/n_total\n",
    "\n",
    "print(f\"Train acc: {train_acc:.4f}, Test acc: {test_acc:.4f}\")"
   ]
  },
  {
   "cell_type": "code",
   "execution_count": 15,
   "metadata": {},
   "outputs": [],
   "source": [
    "from sklearn.metrics import confusion_matrix\n",
    "import numpy as np\n",
    "import itertools\n",
    "\n",
    "def plot_confusion_matrix(cm, classes,\n",
    "                          normalize=False,\n",
    "                          title='Confusion matrix',\n",
    "                          cmap=plt.cm.Blues):\n",
    "  \"\"\"\n",
    "  This function prints and plots the confusion matrix.\n",
    "  Normalization can be applied by setting `normalize=True`.\n",
    "  \"\"\"\n",
    "  if normalize:\n",
    "      cm = cm.astype('float') / cm.sum(axis=1)[:, np.newaxis]\n",
    "      print(\"Normalized confusion matrix\")\n",
    "  else:\n",
    "      print('Confusion matrix, without normalization')\n",
    "\n",
    "  print(cm)\n",
    "\n",
    "  plt.imshow(cm, interpolation='nearest', cmap=cmap)\n",
    "  plt.title(title)\n",
    "  plt.colorbar()\n",
    "  tick_marks = np.arange(len(classes))\n",
    "  plt.xticks(tick_marks, classes, rotation=45)\n",
    "  plt.yticks(tick_marks, classes)\n",
    "\n",
    "  fmt = '.2f' if normalize else 'd'\n",
    "  thresh = cm.max() / 2.\n",
    "  for i, j in itertools.product(range(cm.shape[0]), range(cm.shape[1])):\n",
    "      plt.text(j, i, format(cm[i, j], fmt),\n",
    "               horizontalalignment=\"center\",\n",
    "               color=\"white\" if cm[i, j] > thresh else \"black\")\n",
    "\n",
    "  plt.tight_layout()\n",
    "  plt.ylabel('True label')\n",
    "  plt.xlabel('Predicted label')\n",
    "  plt.show()"
   ]
  },
  {
   "cell_type": "code",
   "execution_count": 16,
   "metadata": {},
   "outputs": [
    {
     "name": "stdout",
     "output_type": "stream",
     "text": [
      "Confusion matrix, without normalization\n",
      "[[8927 1073]\n",
      " [1283 8717]]\n"
     ]
    },
    {
     "data": {
      "image/png": "[encoded data removed]",
      "text/plain": [
       "<Figure size 640x480 with 2 Axes>"
      ]
     },
     "metadata": {},
     "output_type": "display_data"
    }
   ],
   "source": [
    "# Assuming `model`, `device`, and `val_loader` are already defined\n",
    "p_test = np.array([])\n",
    "y_test = np.array([])\n",
    "\n",
    "# Iterate over the validation dataset and gather predictions and ground truth labels\n",
    "for inputs, targets in val_loader:\n",
    "    inputs = inputs.to(device)\n",
    "    outputs = model(inputs)\n",
    "    \n",
    "    # Get model predictions\n",
    "    _, predictions = torch.max(outputs, 1)\n",
    "    \n",
    "    # Append the predictions and ground truth to the arrays\n",
    "    p_test = np.concatenate((p_test, predictions.cpu().numpy()))  # Model predictions\n",
    "    y_test = np.concatenate((y_test, targets.cpu().numpy()))      # Ground truth labels\n",
    "\n",
    "# Compute confusion matrix for binary classification (0/1, False/True)\n",
    "cm = confusion_matrix(y_test, p_test)\n",
    "\n",
    "# Assuming you already have a plotting function for confusion matrix\n",
    "# Simply call your existing plot function (replace with your actual function)\n",
    "plot_confusion_matrix(cm, classes=['False', 'True'])"
   ]
  },
  {
   "cell_type": "code",
   "execution_count": 17,
   "metadata": {},
   "outputs": [
    {
     "name": "stdout",
     "output_type": "stream",
     "text": [
      "----------------------------------------------------------------\n",
      "        Layer (type)               Output Shape         Param #\n",
      "================================================================\n",
      "            Conv2d-1         [-1, 16, 128, 128]             448\n",
      "              ReLU-2         [-1, 16, 128, 128]               0\n",
      "       BatchNorm2d-3         [-1, 16, 128, 128]              32\n",
      "            Conv2d-4         [-1, 16, 128, 128]           2,320\n",
      "              ReLU-5         [-1, 16, 128, 128]               0\n",
      "       BatchNorm2d-6         [-1, 16, 128, 128]              32\n",
      "         MaxPool2d-7           [-1, 16, 64, 64]               0\n",
      "            Conv2d-8           [-1, 32, 64, 64]           4,640\n",
      "              ReLU-9           [-1, 32, 64, 64]               0\n",
      "      BatchNorm2d-10           [-1, 32, 64, 64]              64\n",
      "           Conv2d-11           [-1, 32, 64, 64]           9,248\n",
      "             ReLU-12           [-1, 32, 64, 64]               0\n",
      "      BatchNorm2d-13           [-1, 32, 64, 64]              64\n",
      "        MaxPool2d-14           [-1, 32, 32, 32]               0\n",
      "           Conv2d-15           [-1, 64, 32, 32]          18,496\n",
      "             ReLU-16           [-1, 64, 32, 32]               0\n",
      "      BatchNorm2d-17           [-1, 64, 32, 32]             128\n",
      "           Conv2d-18           [-1, 64, 32, 32]          36,928\n",
      "             ReLU-19           [-1, 64, 32, 32]               0\n",
      "      BatchNorm2d-20           [-1, 64, 32, 32]             128\n",
      "        MaxPool2d-21           [-1, 64, 16, 16]               0\n",
      "           Linear-22                  [-1, 256]       4,194,560\n",
      "           Linear-23                    [-1, 2]             514\n",
      "================================================================\n",
      "Total params: 4,267,602\n",
      "Trainable params: 4,267,602\n",
      "Non-trainable params: 0\n",
      "----------------------------------------------------------------\n",
      "Input size (MB): 0.19\n",
      "Forward/backward pass size (MB): 21.88\n",
      "Params size (MB): 16.28\n",
      "Estimated Total Size (MB): 38.34\n",
      "----------------------------------------------------------------\n"
     ]
    },
    {
     "data": {
      "text/plain": [
       "CNN(\n",
       "  (conv1): Sequential(\n",
       "    (0): Conv2d(3, 16, kernel_size=(3, 3), stride=(1, 1), padding=(1, 1))\n",
       "    (1): ReLU()\n",
       "    (2): BatchNorm2d(16, eps=1e-05, momentum=0.1, affine=True, track_running_stats=True)\n",
       "    (3): Conv2d(16, 16, kernel_size=(3, 3), stride=(1, 1), padding=(1, 1))\n",
       "    (4): ReLU()\n",
       "    (5): BatchNorm2d(16, eps=1e-05, momentum=0.1, affine=True, track_running_stats=True)\n",
       "    (6): MaxPool2d(kernel_size=2, stride=2, padding=0, dilation=1, ceil_mode=False)\n",
       "  )\n",
       "  (conv2): Sequential(\n",
       "    (0): Conv2d(16, 32, kernel_size=(3, 3), stride=(1, 1), padding=(1, 1))\n",
       "    (1): ReLU()\n",
       "    (2): BatchNorm2d(32, eps=1e-05, momentum=0.1, affine=True, track_running_stats=True)\n",
       "    (3): Conv2d(32, 32, kernel_size=(3, 3), stride=(1, 1), padding=(1, 1))\n",
       "    (4): ReLU()\n",
       "    (5): BatchNorm2d(32, eps=1e-05, momentum=0.1, affine=True, track_running_stats=True)\n",
       "    (6): MaxPool2d(kernel_size=2, stride=2, padding=0, dilation=1, ceil_mode=False)\n",
       "  )\n",
       "  (conv3): Sequential(\n",
       "    (0): Conv2d(32, 64, kernel_size=(3, 3), stride=(1, 1), padding=(1, 1))\n",
       "    (1): ReLU()\n",
       "    (2): BatchNorm2d(64, eps=1e-05, momentum=0.1, affine=True, track_running_stats=True)\n",
       "    (3): Conv2d(64, 64, kernel_size=(3, 3), stride=(1, 1), padding=(1, 1))\n",
       "    (4): ReLU()\n",
       "    (5): BatchNorm2d(64, eps=1e-05, momentum=0.1, affine=True, track_running_stats=True)\n",
       "    (6): MaxPool2d(kernel_size=2, stride=2, padding=0, dilation=1, ceil_mode=False)\n",
       "  )\n",
       "  (fc1): Linear(in_features=16384, out_features=256, bias=True)\n",
       "  (fc2): Linear(in_features=256, out_features=2, bias=True)\n",
       ")"
      ]
     },
     "execution_count": 17,
     "metadata": {},
     "output_type": "execute_result"
    }
   ],
   "source": [
    "from torchsummary import summary\n",
    "# Move model to CPU temporarily for summary\n",
    "model.cpu()\n",
    "\n",
    "# Run summary on the CPU\n",
    "summary(model, (3, 128, 128))\n",
    "\n",
    "# Move the model back to the MPS device after summary\n",
    "model.to(device)"
   ]
  }
 ],
 "metadata": {
  "kernelspec": {
   "display_name": "env",
   "language": "python",
   "name": "python3"
  },
  "language_info": {
   "codemirror_mode": {
    "name": "ipython",
    "version": 3
   },
   "file_extension": ".py",
   "mimetype": "text/x-python",
   "name": "python",
   "nbconvert_exporter": "python",
   "pygments_lexer": "ipython3",
   "version": "3.10.14"
  }
 },
 "nbformat": 4,
 "nbformat_minor": 2
}
